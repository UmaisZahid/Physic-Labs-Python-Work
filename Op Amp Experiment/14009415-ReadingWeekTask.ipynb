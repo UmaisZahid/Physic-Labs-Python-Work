{
 "cells": [
  {
   "cell_type": "markdown",
   "metadata": {},
   "source": [
    "# PHAS1240 - Reading Week Task\n",
    "\n",
    "# Student Number: 14009415\n",
    "\n",
    "#### The task below will attempt to plot two lines of least squares fit (unweighted vs weighted by the inverse of uncertainty squared). The data used to accomplish this will be from a student experiment to calculate the specific charge (charge to mass ratio) of an electron. \n",
    "\n",
    "The force experienced by a moving charge in a magnetic field is: \n",
    "\n",
    "$$ F_r = evB = \\frac{mv^2}{r} $$\n",
    "\n",
    "Where r is the radius of orbit.\n",
    "\n",
    "The speed of the electrons is given by the following: \n",
    "\n",
    "$$  \\frac{1}{2} m v^2 = e V $$\n",
    "\n",
    "Rearranging these equations for r provides us with: \n",
    "\n",
    "$$  r = \\frac{1}{B} \\sqrt{ \\frac{2m}{e}} \\sqrt{V}$$\n",
    "\n",
    "We will be plotting $ \\sqrt{Voltage} $ against radius (r) on our graphs and measuring the gradients of best fit lines to find the values of specific charge. "
   ]
  },
  {
   "cell_type": "markdown",
   "metadata": {},
   "source": [
    "## Extracting Data\n",
    "\n",
    "##### The code below extracts the data from our data CSV file, and uses a comma as a delimiter. This means that the comma is used to identify elements as seperate from one another. \n",
    "\n",
    "Upon extracting it unpacks it in to three arrays, this is done using the unpack=True command as seen below. \n",
    "\n",
    "It then square roots in a per element way the x-data array to ensure the x-axis is the $\\sqrt(V)$"
   ]
  },
  {
   "cell_type": "code",
   "execution_count": 2,
   "metadata": {
    "collapsed": false
   },
   "outputs": [
    {
     "ename": "FileNotFoundError",
     "evalue": "[Errno 2] No such file or directory: 'eovermdata2016.csv'",
     "output_type": "error",
     "traceback": [
      "\u001b[1;31m---------------------------------------------------------------------------\u001b[0m",
      "\u001b[1;31mFileNotFoundError\u001b[0m                         Traceback (most recent call last)",
      "\u001b[1;32m<ipython-input-2-60faf6162241>\u001b[0m in \u001b[0;36m<module>\u001b[1;34m()\u001b[0m\n\u001b[0;32m      6\u001b[0m \u001b[1;33m\u001b[0m\u001b[0m\n\u001b[0;32m      7\u001b[0m \u001b[1;31m#Unpack data to two arrays using comma as a\u001b[0m\u001b[1;33m\u001b[0m\u001b[1;33m\u001b[0m\u001b[0m\n\u001b[1;32m----> 8\u001b[1;33m \u001b[0mx1data\u001b[0m\u001b[1;33m,\u001b[0m \u001b[0my1data\u001b[0m\u001b[1;33m,\u001b[0m \u001b[0mdeltay1\u001b[0m  \u001b[1;33m=\u001b[0m \u001b[0mnp\u001b[0m\u001b[1;33m.\u001b[0m\u001b[0mloadtxt\u001b[0m\u001b[1;33m(\u001b[0m\u001b[1;34m\"eovermdata2016.csv\"\u001b[0m\u001b[1;33m,\u001b[0m \u001b[0mdelimiter\u001b[0m\u001b[1;33m=\u001b[0m\u001b[1;34m\",\"\u001b[0m\u001b[1;33m,\u001b[0m\u001b[0munpack\u001b[0m\u001b[1;33m=\u001b[0m\u001b[1;32mTrue\u001b[0m\u001b[1;33m)\u001b[0m\u001b[1;33m\u001b[0m\u001b[0m\n\u001b[0m\u001b[0;32m      9\u001b[0m \u001b[1;33m\u001b[0m\u001b[0m\n\u001b[0;32m     10\u001b[0m \u001b[1;31m#Square root our V values to ensure our X axis will be square root of V\u001b[0m\u001b[1;33m\u001b[0m\u001b[1;33m\u001b[0m\u001b[0m\n",
      "\u001b[1;32mQ:\\Ancond41.126\\VFS\\Anaconda3\\lib\\site-packages\\numpy\\lib\\npyio.py\u001b[0m in \u001b[0;36mloadtxt\u001b[1;34m(fname, dtype, comments, delimiter, converters, skiprows, usecols, unpack, ndmin)\u001b[0m\n\u001b[0;32m    803\u001b[0m                 \u001b[0mfh\u001b[0m \u001b[1;33m=\u001b[0m \u001b[0miter\u001b[0m\u001b[1;33m(\u001b[0m\u001b[0mopen\u001b[0m\u001b[1;33m(\u001b[0m\u001b[0mfname\u001b[0m\u001b[1;33m,\u001b[0m \u001b[1;34m'U'\u001b[0m\u001b[1;33m)\u001b[0m\u001b[1;33m)\u001b[0m\u001b[1;33m\u001b[0m\u001b[0m\n\u001b[0;32m    804\u001b[0m             \u001b[1;32melse\u001b[0m\u001b[1;33m:\u001b[0m\u001b[1;33m\u001b[0m\u001b[0m\n\u001b[1;32m--> 805\u001b[1;33m                 \u001b[0mfh\u001b[0m \u001b[1;33m=\u001b[0m \u001b[0miter\u001b[0m\u001b[1;33m(\u001b[0m\u001b[0mopen\u001b[0m\u001b[1;33m(\u001b[0m\u001b[0mfname\u001b[0m\u001b[1;33m)\u001b[0m\u001b[1;33m)\u001b[0m\u001b[1;33m\u001b[0m\u001b[0m\n\u001b[0m\u001b[0;32m    806\u001b[0m         \u001b[1;32melse\u001b[0m\u001b[1;33m:\u001b[0m\u001b[1;33m\u001b[0m\u001b[0m\n\u001b[0;32m    807\u001b[0m             \u001b[0mfh\u001b[0m \u001b[1;33m=\u001b[0m \u001b[0miter\u001b[0m\u001b[1;33m(\u001b[0m\u001b[0mfname\u001b[0m\u001b[1;33m)\u001b[0m\u001b[1;33m\u001b[0m\u001b[0m\n",
      "\u001b[1;31mFileNotFoundError\u001b[0m: [Errno 2] No such file or directory: 'eovermdata2016.csv'"
     ]
    }
   ],
   "source": [
    "import numpy as np               #Import numpy\n",
    "import matplotlib.pyplot as plt  #Import plotting library\n",
    "\n",
    "#Ensure all graphs are displayed inline\n",
    "%matplotlib inline               \n",
    "\n",
    "#Unpack data to two arrays using comma as a\n",
    "x1data, y1data, deltay1  = np.loadtxt(\"eovermdata2016.csv\", delimiter=\",\",unpack=True)    \n",
    "\n",
    "#Square root our V values to ensure our X axis will be square root of V\n",
    "x1data = np.sqrt(x1data)\n",
    "\n",
    "#Minimum and maximum data values of data set (for use when placing objects on the graph)\n",
    "x_min=np.min(x1data)\n",
    "y_min=np.min(y1data)\n",
    "x_max=np.max(x1data)"
   ]
  },
  {
   "cell_type": "markdown",
   "metadata": {},
   "source": [
    "## Calculating unweighted gradient and intercept (and their uncertainties)\n",
    "##### The code below will be calculating a gradient and intercept for an unweighted line of least squares fit. \n",
    "\n",
    "It will use the following formulae to calculate gradient and intercept: [1]\n",
    "\n",
    "$$ m = \\frac{\\sum(x_i - \\bar{x}) y_i}{\\sum (x_i - \\bar{x})^2} = \\frac{\\sum x_i (y_i - \\bar{y})}{\\sum x_i (x_i - \\bar{x})} $$\n",
    "\n",
    "$$ c = \\bar{y} - m \\bar{x} $$\n",
    "\n",
    "Where $\\bar{y}$ and $\\bar{x}$ represent the mean of X values and mean of Y values respectively.\n",
    "\n",
    "Uncertainty for gradient (m) and intercept (c) can be calculated using the following formulae: [1]\n",
    "\n",
    "$$ \\Delta m = \\sqrt{\\frac{1}{D} \\frac{\\sum{d_i^2}}{(n-2)}} $$\n",
    "\n",
    "$$ \\Delta c = \\sqrt{ \\left(\\frac{1}{n} + \\frac{\\bar{x}^2}{D}\\right) \\frac{\\sum{d_i^2}}{(n-2)}} $$\n",
    "\n",
    "Where: $ d_i = y_i - mx_i - c $ and $ D =  \\sum{x_i - \\bar{x}} $ "
   ]
  },
  {
   "cell_type": "code",
   "execution_count": 2,
   "metadata": {
    "collapsed": false
   },
   "outputs": [
    {
     "name": "stdout",
     "output_type": "stream",
     "text": [
      "\n",
      "The unweighted gradient at full precision is 0.00292367220595 ± 0.000356444318526 m V^(-1/2)\n",
      "The unweighted intercept at full precision is -0.00333963522913 ± 0.00540574574025 m\n",
      "\n"
     ]
    }
   ],
   "source": [
    "#Calculate x and y means\n",
    "ymean = np.mean(y1data) \n",
    "xmean = np.mean(x1data)\n",
    "\n",
    "#Initialise the variables we will use to calculate gradient and uncertainties\n",
    "noOfDataValues = len(x1data)\n",
    "\n",
    "#Calculating numerator and denomenator of gradient function. \n",
    "mnum = sum(x1data*(y1data-ymean))\n",
    "mdenom = sum(x1data*(x1data-xmean))\n",
    "\n",
    "#Calculate value of D (for use in uncertainty)\n",
    "D = sum((x1data-xmean)**2)\n",
    "    \n",
    "#Calculating gradient and intercept\n",
    "UW_gradient = mnum/mdenom\n",
    "UW_intercept = ymean - (UW_gradient*xmean)\n",
    "\n",
    "#Calculating sigma of di squared (for use in uncertainty equations)\n",
    "sumOfDiSquared = sum(np.power((y1data-(UW_gradient*x1data)-UW_intercept),2))\n",
    "\n",
    "#Calculate y points for line of best fit\n",
    "UW_xdata = np.linspace(11,19,2)    #Create array for x values of line of best fit\n",
    "UW_ydata = np.copy(UW_xdata)\n",
    "UW_ydata = UW_gradient*UW_xdata+UW_intercept\n",
    "    \n",
    "#Calculating uncertainty in gradient\n",
    "UW_gradUncertainty = np.sqrt(sumOfDiSquared/(D*(noOfDataValues-2)))\n",
    "\n",
    "#Calculating uncertainty in intercept\n",
    "UW_interceptUncertainty = np.sqrt(((1/noOfDataValues)+(xmean**2/D))*sumOfDiSquared/(noOfDataValues-2))\n",
    "\n",
    "print()\n",
    "print(\"The unweighted gradient at full precision is\",UW_gradient, '±', UW_gradUncertainty, \"m V^(-1/2)\")\n",
    "print(\"The unweighted intercept at full precision is\", UW_intercept,'±', UW_interceptUncertainty, \"m\")\n",
    "print()"
   ]
  },
  {
   "cell_type": "markdown",
   "metadata": {},
   "source": [
    "## Calculating weighted gradient and intercept (and their uncertainties)\n",
    "##### The code below will be calculating the gradient, intercept and their uncertainties for the weighted line of least squares fit. \n",
    "\n",
    "We will weight the data points as follows: (This will ensure that data points with greater uncertainty contribute less to our least squares line of best fit: [2]\n",
    "\n",
    "$$ w_i = \\frac{1}{(\\Delta y_i)^2} $$\n",
    "\n",
    "Our gradient function will be of the following form: [2]\n",
    "\n",
    "$$  m = \\frac{\\sum_i w_i \\sum_i w_i x_i y_i - \\sum_i w_i x_i \\sum_i w_i\n",
    "y_i}{\\sum_i w_i \\sum_i w_i x_i^2 - \\left(\\sum_i w_i x_i \\right)^2}\\\\\n",
    "= \\frac{\\sum_i w_i \\sum_i w_i x_i y_i - \\sum_i w_i x_i \\sum_i w_i\n",
    "y_i}{\\delta} $$\n",
    "\n",
    "Our intercept function will be calculated with the following: [2]\n",
    "\n",
    "$$ c = \\frac{\\sum_i w_i x_i^2 \\sum_i w_i y_i - \\sum_i w_i x_i \\sum_i w_i x_i y_i}{\\delta} $$\n",
    "\n",
    "Uncertainty in gradient will be calculated as follows: [2]\n",
    "\n",
    "$$ \\Delta m = \\sqrt{ \\frac{\\sum_i w_i}{\\delta}} $$\n",
    "\n",
    "And the uncertainty in intercept with: [2]\n",
    "\n",
    "$$ \\Delta c = \\sqrt{ \\frac{\\sum_i x_i^2 w_i}{\\delta}} $$"
   ]
  },
  {
   "cell_type": "code",
   "execution_count": 3,
   "metadata": {
    "collapsed": false
   },
   "outputs": [
    {
     "name": "stdout",
     "output_type": "stream",
     "text": [
      "\n",
      "The weighted gradient at full precision is 0.00244923831368 ± 0.000536132407511 m V^(-1/2)\n",
      "The weighted intercept at full precision is 0.00300020627965 ± 0.00790442503692 m\n",
      "\n"
     ]
    }
   ],
   "source": [
    "#We will first form the array containing W\n",
    "w = 1/(np.square(np.copy(deltay1)))\n",
    "\n",
    "#Now we will calculate lower-case delta to simplify calculations\n",
    "delta = sum(w)*sum(w*(x1data**2))-(sum(w*x1data))**2\n",
    "\n",
    "#Calculating our gradient function\n",
    "W_gradient = ((sum(w)*sum(w*x1data*y1data))-(sum(w*x1data)*sum(w*y1data)))/delta\n",
    "\n",
    "#Calculating our intercept function\n",
    "W_intercept = (sum(w*(x1data**2))*sum(w*y1data) - sum(w*x1data)*sum(w*x1data*y1data))/delta\n",
    "\n",
    "#Calculatin uncertainty in weighted gradient\n",
    "W_gradUncertainty = np.sqrt(sum(w)/delta) \n",
    "\n",
    "#Calculating uncertainty in weighted intercept\n",
    "W_interceptUncertainty = np.sqrt(sum((x1data**2)*w)/delta)\n",
    "\n",
    "#Create x and y array for line of best fit\n",
    "W_xdata = np.linspace(11,19,2)    #Create array for x values of line of best fit\n",
    "W_ydata = np.copy(W_xdata)\n",
    "W_ydata = W_gradient*W_xdata+W_intercept\n",
    "\n",
    "print()\n",
    "print(\"The weighted gradient at full precision is\",W_gradient,'±', W_gradUncertainty, \"m V^(-1/2)\")\n",
    "print(\"The weighted intercept at full precision is\", W_intercept,'±', W_interceptUncertainty, \"m\")\n",
    "print()"
   ]
  },
  {
   "cell_type": "markdown",
   "metadata": {},
   "source": [
    "## Calculating specific charge and its uncertainty\n",
    "##### The code below will calculate both the e/m ratio and its uncertainty for both the weighted and unweighted lines of least squares fit\n",
    "\n",
    "Our formula for the graph is \n",
    "\n",
    "$$  r = \\frac{1}{B} \\sqrt{ \\frac{2m}{e}} \\sqrt{V} $$\n",
    "\n",
    "Where $ \\sqrt(V) $ is our y-axis, and r is our x-axis. \n",
    "\n",
    "Therefore: \n",
    "\n",
    "$$ Gradient = \\frac{1}{B}\\sqrt{ \\frac{2m}{e}} $$\n",
    "\n",
    "Therefore\n",
    "\n",
    "$$ \\frac{e}{m} = \\frac{2}{Gradient^2B^2} $$\n",
    "\n",
    "Using the general formulae for uncertainty, the uncertainty of this can be calculated as follows: [1]\n",
    "\n",
    "$$ (\\Delta Z)^2 = \\left(\\frac{\\partial Z}{\\partial A} \\right)^2(\\Delta A)^2 + \\left(\\frac{\\partial Z}{\\partial B} \\right)^2(\\Delta B)^2 $$\n",
    "\n",
    "$$ \\Delta \\frac{e}{m} = \\sqrt{\\left( \\frac{\\partial \\frac{e}{m}}{\\partial Gradient}^2 * \\Delta Gradient^2 \\right)+ \\left (\\frac{\\partial \\frac{e}{m}}{\\partial B}^2 * \\Delta B^2 \\right)} $$\n",
    "\n",
    "Therefore \n",
    "\n",
    "$$ \\Delta \\frac{e}{m} = 2 * \\sqrt{\\frac{4*\\Delta Gradient^2} {Gradient^6B^4} + \\frac{4*\\Delta B^2} {Gradient^4B^6}} $$ \n"
   ]
  },
  {
   "cell_type": "code",
   "execution_count": 6,
   "metadata": {
    "collapsed": false
   },
   "outputs": [
    {
     "name": "stdout",
     "output_type": "stream",
     "text": [
      "\n",
      "The unweighted e/m value is 142808052991.0 ± 34892779360.7\n",
      "The weighted e/m value is 203492293827.0 ± 89144674241.5\n",
      "\n"
     ]
    }
   ],
   "source": [
    "#Calculating e/m charge ratio for both weighted and unweighted lines of best fit\n",
    "B = 1.28e-3\n",
    "delB = 0.01e-3\n",
    "UW_emRatio =2/((UW_gradient**2)*(B**2))\n",
    "W_emRatio = 2/((W_gradient**2)*(B**2))\n",
    "\n",
    "#Calculating uncertainty in e/m for both weighted and unweighted \n",
    "UW_emUncertainty = 2*np.sqrt((4*UW_gradUncertainty**2)/((UW_gradient**6)*(B**4)) + (4*delB**2)/((UW_gradient**4)*(B**6)))\n",
    "W_emUncertainty = 2*np.sqrt((4*W_gradUncertainty**2)/((W_gradient**6)*(B**4)) + (4*delB**2)/((W_gradient**4)*(B**6)))\n",
    "\n",
    "print()\n",
    "print('The unweighted e/m value is' ,UW_emRatio, '±', UW_emUncertainty)\n",
    "print('The weighted e/m value is' ,W_emRatio, '±', W_emUncertainty )\n",
    "print()"
   ]
  },
  {
   "cell_type": "markdown",
   "metadata": {},
   "source": [
    "## Plotting the graph\n",
    "##### Plotted below are the collected data values, in addition to both weighted and unweighted lines of best fit"
   ]
  },
  {
   "cell_type": "code",
   "execution_count": 1,
   "metadata": {
    "collapsed": false,
    "scrolled": true
   },
   "outputs": [
    {
     "ename": "NameError",
     "evalue": "name 'plt' is not defined",
     "output_type": "error",
     "traceback": [
      "\u001b[1;31m---------------------------------------------------------------------------\u001b[0m",
      "\u001b[1;31mNameError\u001b[0m                                 Traceback (most recent call last)",
      "\u001b[1;32m<ipython-input-1-6dfb613813f1>\u001b[0m in \u001b[0;36m<module>\u001b[1;34m()\u001b[0m\n\u001b[0;32m      1\u001b[0m \u001b[1;31m#This sets the size of the figure/graph\u001b[0m\u001b[1;33m\u001b[0m\u001b[1;33m\u001b[0m\u001b[0m\n\u001b[1;32m----> 2\u001b[1;33m \u001b[0mplt\u001b[0m\u001b[1;33m.\u001b[0m\u001b[0mfigure\u001b[0m\u001b[1;33m(\u001b[0m\u001b[0mfigsize\u001b[0m\u001b[1;33m=\u001b[0m\u001b[1;33m(\u001b[0m\u001b[1;36m9\u001b[0m\u001b[1;33m,\u001b[0m\u001b[1;36m6\u001b[0m\u001b[1;33m)\u001b[0m\u001b[1;33m)\u001b[0m\u001b[1;33m\u001b[0m\u001b[0m\n\u001b[0m\u001b[0;32m      3\u001b[0m \u001b[1;33m\u001b[0m\u001b[0m\n\u001b[0;32m      4\u001b[0m \u001b[1;31m#Plot grid\u001b[0m\u001b[1;33m\u001b[0m\u001b[1;33m\u001b[0m\u001b[0m\n\u001b[0;32m      5\u001b[0m \u001b[0mplt\u001b[0m\u001b[1;33m.\u001b[0m\u001b[0mgrid\u001b[0m\u001b[1;33m(\u001b[0m\u001b[1;32mTrue\u001b[0m\u001b[1;33m)\u001b[0m\u001b[1;33m\u001b[0m\u001b[0m\n",
      "\u001b[1;31mNameError\u001b[0m: name 'plt' is not defined"
     ]
    }
   ],
   "source": [
    "#This sets the size of the figure/graph\n",
    "plt.figure(figsize=(9,6))                                    \n",
    "\n",
    "#Plot grid\n",
    "plt.grid(True)\n",
    "\n",
    "#Plot data, add label, and change linewidth of line                                                  \n",
    "plt.plot(UW_xdata,UW_ydata,'b--',label=\"$\\mathit{Line \\  of \\ least \\ squares \\ fit \\ (Unweighted)}$\", linewidth=1.25)        \n",
    "plt.plot(W_xdata, W_ydata,'r-.',label=\"$\\mathit{Line \\  of \\ least \\ squares \\ fit \\ (Weighted)}$\", linewidth=1.25)\n",
    "plt.errorbar(x1data,y1data,yerr=deltay1,fmt='bo')\n",
    "plt.plot(x1data,y1data, 'k.', label=\"$\\mathit{Experimental \\ Data \\ Values}$\", linewidth=0.5) \n",
    "\n",
    "\n",
    "\n",
    "#Add labels, title and legend\n",
    "plt.ylabel('$\\mathit{radius \\ of \\ orbit \\ (metres)}$',fontsize=15)   #Add labels as Math Text using $ \n",
    "plt.xlabel('$\\sqrt{voltage}} $ $/V^{0.5} $', fontsize=15)\n",
    "plt.title('$ \\mathrm{Deflection \\ of \\ an \\ electron \\ beam \\ in \\ a \\ magnetic \\ field}$',loc=\"center\", fontsize=20)   #Add centred title as Roman font in Math Text \n",
    "plt.legend(loc=\"best\")\n",
    "plt.xlim([11,19])\n",
    "\n",
    "#Add gradient, intercept and their uncertainties to the graph\n",
    "plt.text(1.52*x_min, 1.5*y_min, \"The unweighted gradient is {0:0.4f} ± {1:0.4f} m V^(-1/2)\".format(UW_gradient,UW_gradUncertainty), style='italic', fontsize=9,  bbox={'facecolor':'white', 'alpha':1, 'pad':5})\n",
    "plt.text(1.52*x_min,1.43*y_min, \"The unweighted intercept is {0:0.3f} ± {1:0.3f} m\".format(UW_gradient,UW_interceptUncertainty), style='italic', fontsize=9, bbox={'facecolor':'white', 'alpha':1, 'pad':5})\n",
    "plt.text(1.52*x_min, 1.3*y_min, \"The weighted gradient is {0:0.4f} ± {1:0.4f} m V^(-1/2)\".format(W_gradient,W_gradUncertainty), style='italic', fontsize=9,  bbox={'facecolor':'white', 'alpha':1, 'pad':5})\n",
    "plt.text(1.52*x_min,1.23*y_min, \"The weighted intercept is {0:0.3f} ± {1:0.3f} m\".format(W_gradient,W_interceptUncertainty), style='italic', fontsize=9, bbox={'facecolor':'white', 'alpha':1, 'pad':5})\n",
    "plt.text(1.52*x_min, 1.1*y_min, \"The unweighted e/m ratio is {0:.1e} ± {1:.0e} C/kg\".format(UW_emRatio,UW_emUncertainty), style='italic', fontsize=9,  bbox={'facecolor':'white', 'alpha':1, 'pad':5})\n",
    "plt.text(1.52*x_min,1.03*y_min, \"The weighted e/m ratio is {0:.1e} ± {1:.0e} C/kg\".format(W_emRatio,W_emUncertainty), style='italic', fontsize=9, bbox={'facecolor':'white', 'alpha':1, 'pad':5})\n",
    "\n",
    "print()\n",
    "print('Unweighted Line of Best Fit: y = ({0:0.4f} ± {1:0.4f})x + ({2:0.3f} ± {3:0.3f})'.format(UW_gradient,UW_gradUncertainty,UW_gradient,UW_interceptUncertainty))\n",
    "print('Weighted Line of Best Fit: y = ({0:0.4f} ± {1:0.4f})x + ({2:0.3f} ± {3:0.3f})'.format(W_gradient,W_gradUncertainty,W_gradient,W_interceptUncertainty))\n",
    "print()"
   ]
  },
  {
   "cell_type": "markdown",
   "metadata": {},
   "source": [
    "$$ Unweighted \\ Line \\ of \\ Best \\ Fit: y = (0.0029 ± 0.0004)x + (0.003 ± 0.005) $$\n",
    "$$ Weighted \\ Line \\ of \\ Best \\ Fit: y = (0.0024 ± 0.0005)x + (0.002 ± 0.008) $$"
   ]
  },
  {
   "cell_type": "markdown",
   "metadata": {},
   "source": [
    "## What e/m value would I consider more reliable?\n",
    "\n",
    "The unweighted e/m value is 142808052991.0 ± 34892779360.7\n",
    "\n",
    "The weighted e/m value is 203492293827.0 ± 89144674241.5\n",
    "\n",
    "The accepted value for e/m is (1.75882002 ± 0.0000001) x 10^11 C/kg (CODATA Fundamental Constants 2014)\n",
    "\n",
    "At first glance, the weighted e/m value appears to be a more accurate value for e/m, as it reduces the influence of data points with high uncertainty on the final value of e/m. And is also therefore closer to the accepted value. \n",
    "\n",
    "However, upon calculating the uncertainty in two values of e/m, it can be observed that the uncertainty in weighted e/m is many times larger than that of the unweighted value. This is due to the nature of the calculations required to compute the weighted value of e/m. \n",
    "\n",
    "#####  Reliability is the consistency of a measure upon repeated procedures. Therefore, while the accuracy of the weighted e/m value is likely greater, due to the fact that its precision is lower, the unweighted value has high precision and therefore greater reliability. "
   ]
  },
  {
   "cell_type": "markdown",
   "metadata": {},
   "source": [
    "## Bibliography\n",
    "\n",
    "#### [1] PHAS1240 Experimental Methods and Data Analysis (Prof N. Skipper and Dr P. Jones) - Pages 10\n",
    "#### [2] PHAS1240 Reading Week task 2016: Using a weighted  t to calculate e=m"
   ]
  }
 ],
 "metadata": {
  "anaconda-cloud": {},
  "kernelspec": {
   "display_name": "VPython",
   "language": "python",
   "name": "vpython"
  },
  "language_info": {
   "codemirror_mode": {
    "name": "ipython",
    "version": 3
   },
   "file_extension": ".py",
   "mimetype": "text/x-python",
   "name": "python",
   "nbconvert_exporter": "python",
   "pygments_lexer": "ipython3",
   "version": "3.5.2"
  }
 },
 "nbformat": 4,
 "nbformat_minor": 1
}
