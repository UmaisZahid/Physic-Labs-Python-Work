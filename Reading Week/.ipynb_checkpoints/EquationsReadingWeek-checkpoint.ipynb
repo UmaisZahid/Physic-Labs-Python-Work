{
 "cells": [
  {
   "cell_type": "markdown",
   "metadata": {},
   "source": [
    "# Equations for the Reading Week task\n",
    "\n",
    "This notebook contains the equations from the pdf script for the task. You may copy and paste these equations into your own notebook as required.\n"
   ]
  },
  {
   "cell_type": "markdown",
   "metadata": {},
   "source": [
    "(1:) \n",
    "$$ w_i = \\frac{1}{(\\Delta y_i)^2} $$\n",
    "\n",
    "(2,3:) \n",
    "$$  m = \\frac{\\sum_i w_i \\sum_i w_i x_i y_i - \\sum_i w_i x_i \\sum_i w_i\n",
    "y_i}{\\sum_i w_i \\sum_i w_i x_i^2 - \\left(\\sum_i w_i x_i \\right)^2}\\\\\n",
    "= \\frac{\\sum_i w_i \\sum_i w_i x_i y_i - \\sum_i w_i x_i \\sum_i w_i\n",
    "y_i}{\\delta} $$\n",
    "    \n",
    "(4:)\n",
    "$$ c = \\frac{\\sum_i w_i x_i^2 \\sum_i w_i y_i - \\sum_i w_i x_i \\sum_i w_i x_i y_i}{\\delta} $$\n",
    "\n",
    "(5:)\n",
    "$$ \\delta = \\sum_i w_i \\sum_i w_i x_i^2 - \\left(\\sum_i w_i x_i \\right)^2 $$\n",
    "\n",
    "(6:) \n",
    "$$ \\Delta m = \\sqrt{ \\frac{\\sum_i w_i}{\\delta}} $$\n",
    "\n",
    "(7:)\n",
    "$$ \\Delta c = \\sqrt{ \\frac{\\sum_i x_i^2 w_i}{\\delta}} $$\n",
    "\n",
    "(8:) \n",
    "$$ F_r = evB = \\frac{mv^2}{r} $$\n",
    "\n",
    "(9:)\n",
    "$$  \\frac{1}{2} m v^2 = e V $$"
   ]
  },
  {
   "cell_type": "code",
   "execution_count": null,
   "metadata": {
    "collapsed": true
   },
   "outputs": [],
   "source": []
  }
 ],
 "metadata": {
  "anaconda-cloud": {},
  "kernelspec": {
   "display_name": "Python [default]",
   "language": "python",
   "name": "python3"
  },
  "language_info": {
   "codemirror_mode": {
    "name": "ipython",
    "version": 3
   },
   "file_extension": ".py",
   "mimetype": "text/x-python",
   "name": "python",
   "nbconvert_exporter": "python",
   "pygments_lexer": "ipython3",
   "version": "3.5.2"
  }
 },
 "nbformat": 4,
 "nbformat_minor": 1
}
